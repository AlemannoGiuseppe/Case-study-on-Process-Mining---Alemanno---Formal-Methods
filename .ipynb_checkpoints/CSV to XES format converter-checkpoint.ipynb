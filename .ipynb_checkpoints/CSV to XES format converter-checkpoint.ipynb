{
 "cells": [
  {
   "cell_type": "code",
   "execution_count": 3,
   "id": "f539e97d",
   "metadata": {},
   "outputs": [
    {
     "name": "stderr",
     "output_type": "stream",
     "text": [
      "C:\\Users\\Giuseppe\\AppData\\Local\\Temp\\ipykernel_23864\\2029528326.py:6: DeprecatedWarning: format_dataframe is deprecated as of 2.3.0 and will be removed in 3.0.0. the format_dataframe function does not need application anymore.\n",
      "  df1 = pm4py.format_dataframe( pd.read_csv('Dataset/OrdonezA_Sensors.csv', sep=';'),\n",
      "C:\\Users\\Giuseppe\\AppData\\Local\\Temp\\ipykernel_23864\\2029528326.py:8: DeprecatedWarning: format_dataframe is deprecated as of 2.3.0 and will be removed in 3.0.0. the format_dataframe function does not need application anymore.\n",
      "  df2 = pm4py.format_dataframe( pd.read_csv('Dataset/OrdonezA_Activities.csv', sep=';'),\n",
      "C:\\Users\\Giuseppe\\AppData\\Local\\Temp\\ipykernel_23864\\2029528326.py:10: DeprecatedWarning: format_dataframe is deprecated as of 2.3.0 and will be removed in 3.0.0. the format_dataframe function does not need application anymore.\n",
      "  df3 = pm4py.format_dataframe( pd.read_csv('Dataset/OrdonezA_All.csv', sep=';'),\n",
      "C:\\Users\\Giuseppe\\AppData\\Local\\Temp\\ipykernel_23864\\2029528326.py:12: DeprecatedWarning: format_dataframe is deprecated as of 2.3.0 and will be removed in 3.0.0. the format_dataframe function does not need application anymore.\n",
      "  df4 = pm4py.format_dataframe( pd.read_csv('Dataset/OrdonezB_Activities.csv', sep=';'),\n",
      "C:\\Users\\Giuseppe\\anaconda3\\envs\\myenv\\Lib\\site-packages\\pm4py\\utils.py:486: UserWarning: the EventLog class has been deprecated and will be removed in a future release.\n",
      "  warnings.warn(\"the EventLog class has been deprecated and will be removed in a future release.\")\n"
     ]
    },
    {
     "data": {
      "application/vnd.jupyter.widget-view+json": {
       "model_id": "e0ba2489f20544c7b1b92317d0705e62",
       "version_major": 2,
       "version_minor": 0
      },
      "text/plain": [
       "exporting log, completed traces ::   0%|          | 0/14 [00:00<?, ?it/s]"
      ]
     },
     "metadata": {},
     "output_type": "display_data"
    },
    {
     "data": {
      "application/vnd.jupyter.widget-view+json": {
       "model_id": "3b1ca4503ce34b1a92f05cff37f8fe2d",
       "version_major": 2,
       "version_minor": 0
      },
      "text/plain": [
       "exporting log, completed traces ::   0%|          | 0/14 [00:00<?, ?it/s]"
      ]
     },
     "metadata": {},
     "output_type": "display_data"
    },
    {
     "data": {
      "application/vnd.jupyter.widget-view+json": {
       "model_id": "8b7e7d67acac4a2aac9132dbd4b92b35",
       "version_major": 2,
       "version_minor": 0
      },
      "text/plain": [
       "exporting log, completed traces ::   0%|          | 0/14 [00:00<?, ?it/s]"
      ]
     },
     "metadata": {},
     "output_type": "display_data"
    },
    {
     "data": {
      "application/vnd.jupyter.widget-view+json": {
       "model_id": "8a15438b4bdd4aebac18ef03f19258fc",
       "version_major": 2,
       "version_minor": 0
      },
      "text/plain": [
       "exporting log, completed traces ::   0%|          | 0/21 [00:00<?, ?it/s]"
      ]
     },
     "metadata": {},
     "output_type": "display_data"
    }
   ],
   "source": [
    "import os            # creating and removing a directory (folder), fetching its contents\n",
    "import pandas as pd  # data processing, CSV file I/O (e.g. pd.read_csv)\n",
    "import pm4py         # process mining and visualization \n",
    "\n",
    "# reads a XES into a dataframe\n",
    "df1 = pm4py.format_dataframe( pd.read_csv('Dataset/OrdonezA_Sensors.csv', sep=';'), \n",
    "                                            case_id='LifeCycles',activity_key='Location',timestamp_key='Start')\n",
    "df2 = pm4py.format_dataframe( pd.read_csv('Dataset/OrdonezA_Activities.csv', sep=';'), \n",
    "                                            case_id='LifeCycles',activity_key='Activity',timestamp_key='Start')\n",
    "df3 = pm4py.format_dataframe( pd.read_csv('Dataset/OrdonezA_All.csv', sep=';'), \n",
    "                                            case_id='LifeCycles',activity_key='Location',timestamp_key='Start')\n",
    "df4 = pm4py.format_dataframe( pd.read_csv('Dataset/OrdonezB_Activities.csv', sep=';'), \n",
    "                                            case_id='LifeCycles',activity_key='Activity',timestamp_key='Start')\n",
    "# converts the dataframes to  event logs\n",
    "log1 = pm4py.convert_to_event_log(df1)\n",
    "log2 = pm4py.convert_to_event_log(df2)\n",
    "log3 = pm4py.convert_to_event_log(df3)\n",
    "log4 = pm4py.convert_to_event_log(df4)\n",
    "\n",
    "# writes logs to XES files\n",
    "pm4py.write_xes(log1, \"Dataset/OrdonezA_Sensors.xes\")\n",
    "pm4py.write_xes(log2, \"Dataset/OrdonezA_Activities.xes\")\n",
    "pm4py.write_xes(log3, \"Dataset/OrdonezA_All.xes\")\n",
    "pm4py.write_xes(log4, \"Dataset/OrdonezB_All.xes\")"
   ]
  },
  {
   "cell_type": "code",
   "execution_count": null,
   "id": "e37a65e7",
   "metadata": {},
   "outputs": [],
   "source": []
  }
 ],
 "metadata": {
  "kernelspec": {
   "display_name": "Python 3 (ipykernel)",
   "language": "python",
   "name": "python3"
  },
  "language_info": {
   "codemirror_mode": {
    "name": "ipython",
    "version": 3
   },
   "file_extension": ".py",
   "mimetype": "text/x-python",
   "name": "python",
   "nbconvert_exporter": "python",
   "pygments_lexer": "ipython3",
   "version": "3.11.0"
  }
 },
 "nbformat": 4,
 "nbformat_minor": 5
}
